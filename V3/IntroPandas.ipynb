{
 "cells": [
  {
   "cell_type": "markdown",
   "id": "1a31eaa4",
   "metadata": {},
   "source": [
    "<figure>\n",
    "  <IMG SRC=\"https://upload.wikimedia.org/wikipedia/commons/thumb/d/d5/Fachhochschule_Südwestfalen_20xx_logo.svg/320px-Fachhochschule_Südwestfalen_20xx_logo.svg.png\" WIDTH=250 ALIGN=\"right\">\n",
    "</figure>\n",
    "\n",
    "# Einführung Machine Learning\n",
    "### Sommersemester 2024\n",
    "Prof. Dr. Heiner Giefers"
   ]
  },
  {
   "cell_type": "markdown",
   "id": "forty-minority",
   "metadata": {},
   "source": [
    "Pandas importieren. In der Regel wird die Abkürzung `pd` für die Bibliothek verwendet:"
   ]
  },
  {
   "cell_type": "code",
   "execution_count": null,
   "id": "editorial-matrix",
   "metadata": {},
   "outputs": [],
   "source": [
    "import pandas as pd"
   ]
  },
  {
   "cell_type": "markdown",
   "id": "corrected-puzzle",
   "metadata": {},
   "source": [
    "Einen Dataframe aus einer Liste (von Listen) erzeugen:"
   ]
  },
  {
   "cell_type": "code",
   "execution_count": null,
   "id": "damaged-watch",
   "metadata": {},
   "outputs": [],
   "source": [
    "# Liste von Listen initialisieren\n",
    "data = [['Anna', 21], ['Bernd', 20], ['Claudia', 23], ['Dirk', 22]]\n",
    "  \n",
    "# Pandas DataFrame anlegen\n",
    "df = pd.DataFrame(data, columns = ['Name', 'Alter'])\n",
    "df"
   ]
  },
  {
   "cell_type": "markdown",
   "id": "olive-winner",
   "metadata": {},
   "source": [
    "Einen Dataframe aus einem Dictionary mit Listen erstellen:"
   ]
  },
  {
   "cell_type": "code",
   "execution_count": null,
   "id": "amateur-glossary",
   "metadata": {},
   "outputs": [],
   "source": [
    "# Collenction von Listen initialisieren\n",
    "data = {'Name':['Anna', 'Bernd', 'Claudia', 'Dirk'],\n",
    "        'Alter':[31, 30, 33, 32]}\n",
    "  \n",
    "# Pandas DataFrame anlegen\n",
    "df = pd.DataFrame(data)\n",
    "df"
   ]
  },
  {
   "cell_type": "markdown",
   "id": "dated-amino",
   "metadata": {},
   "source": [
    "Wir können die Indizes auch explizit benennen:"
   ]
  },
  {
   "cell_type": "code",
   "execution_count": null,
   "id": "regular-unemployment",
   "metadata": {},
   "outputs": [],
   "source": [
    "# Indices definieren\n",
    "index =['A','B','C','D']\n",
    "  \n",
    "# Pandas DataFrame anlegen\n",
    "dfi = pd.DataFrame(data, index=index)\n",
    "dfi"
   ]
  },
  {
   "cell_type": "markdown",
   "id": "universal-twins",
   "metadata": {},
   "source": [
    "Neue Spalten können einfach an den DataFrame angehängt werden:"
   ]
  },
  {
   "cell_type": "code",
   "execution_count": null,
   "id": "furnished-manchester",
   "metadata": {},
   "outputs": [],
   "source": [
    "df[\"Studiengang\"] = [\"MBau\", \"Inf\", \"Inf\", \"Inf\"]\n",
    "df"
   ]
  },
  {
   "cell_type": "markdown",
   "id": "divine-voluntary",
   "metadata": {},
   "source": [
    "Ebenfalls können Zeilen überschrieben oder neu angelegt werden:"
   ]
  },
  {
   "cell_type": "code",
   "execution_count": null,
   "id": "considerable-shock",
   "metadata": {},
   "outputs": [],
   "source": [
    "df.loc[len(df.index)] = ['Elena', 29, 'MBau']\n",
    "df"
   ]
  },
  {
   "cell_type": "code",
   "execution_count": null,
   "id": "trained-christopher",
   "metadata": {},
   "outputs": [],
   "source": [
    "df[\"Credits\"] = [3400,8800,9000,8000,4400]\n",
    "df"
   ]
  },
  {
   "cell_type": "code",
   "execution_count": null,
   "id": "sustainable-general",
   "metadata": {},
   "outputs": [],
   "source": [
    "df_full = df.copy(deep=True)\n",
    "df.describe()"
   ]
  },
  {
   "cell_type": "code",
   "execution_count": null,
   "id": "greatest-treasury",
   "metadata": {},
   "outputs": [],
   "source": [
    "val = df[['Alter','Credits','Studiengang']].values\n",
    "type(val), val"
   ]
  },
  {
   "cell_type": "code",
   "execution_count": null,
   "id": "unlikely-ideal",
   "metadata": {},
   "outputs": [],
   "source": [
    "zeile_start  =  1 # einschließlich\n",
    "zeile_ende   = -1 # ausschließlich\n",
    "spalte_start =  0 # einschließlich\n",
    "spalte_ende  =  2 # ausschließlich\n",
    "val[zeile_start:zeile_ende,spalte_start:spalte_ende]"
   ]
  },
  {
   "cell_type": "code",
   "execution_count": null,
   "id": "satellite-sixth",
   "metadata": {},
   "outputs": [],
   "source": [
    "import numpy as np\n",
    "df.loc[1, 'Credits'] = np.nan\n",
    "df.at[3, 'Credits'] = np.nan # .at ist die bessere/schnellere Variante\n",
    "df.loc[3, 'Alter'] = np.nan\n",
    "df"
   ]
  },
  {
   "cell_type": "code",
   "execution_count": null,
   "id": "cordless-killer",
   "metadata": {},
   "outputs": [],
   "source": [
    "help(df.dropna)"
   ]
  },
  {
   "cell_type": "code",
   "execution_count": null,
   "id": "concrete-tennis",
   "metadata": {},
   "outputs": [],
   "source": [
    "df.dropna(subset=['Alter'])"
   ]
  },
  {
   "cell_type": "code",
   "execution_count": null,
   "id": "amateur-madagascar",
   "metadata": {},
   "outputs": [],
   "source": [
    "df['Bonus'] = [0.01,0.02,np.nan,0.04,0.05]\n",
    "df"
   ]
  },
  {
   "cell_type": "code",
   "execution_count": null,
   "id": "corporate-christianity",
   "metadata": {},
   "outputs": [],
   "source": [
    "df.join(pd.get_dummies(df['Studiengang'])).drop(['Studiengang'], axis=1)"
   ]
  },
  {
   "cell_type": "code",
   "execution_count": null,
   "id": "classical-appendix",
   "metadata": {},
   "outputs": [],
   "source": [
    "df_full['Bonus'] = [0.01,0.02,np.nan,0.04,0.05]\n",
    "df_full"
   ]
  },
  {
   "cell_type": "code",
   "execution_count": null,
   "id": "cardiovascular-receptor",
   "metadata": {},
   "outputs": [],
   "source": [
    "Limit = 32\n",
    "df_full.query(\"Alter <= @Limit and Studiengang == 'Inf'\")"
   ]
  },
  {
   "cell_type": "code",
   "execution_count": null,
   "id": "according-rouge",
   "metadata": {},
   "outputs": [],
   "source": [
    "df_full.eval(\"Credits_Neu = Credits * (1+Bonus)\", inplace=True)\n",
    "df_full"
   ]
  },
  {
   "cell_type": "code",
   "execution_count": null,
   "id": "collectible-karaoke",
   "metadata": {},
   "outputs": [],
   "source": [
    "df.at[3,'Alter'] = 32\n",
    "df.sort_values(by=\"Alter\", inplace=True)\n",
    "df.at[3,'Alter'] = np.nan\n",
    "df"
   ]
  },
  {
   "cell_type": "code",
   "execution_count": null,
   "id": "honey-thing",
   "metadata": {},
   "outputs": [],
   "source": [
    "df.Bonus.fillna(0, inplace=True)\n",
    "df"
   ]
  },
  {
   "cell_type": "code",
   "execution_count": null,
   "id": "automated-binary",
   "metadata": {},
   "outputs": [],
   "source": [
    "df.Credits.fillna(df.Credits.mean(), inplace=True)\n",
    "df"
   ]
  },
  {
   "cell_type": "code",
   "execution_count": null,
   "id": "governmental-landing",
   "metadata": {},
   "outputs": [],
   "source": [
    "df.Alter.interpolate(axis=0, inplace=True)\n",
    "df"
   ]
  },
  {
   "cell_type": "code",
   "execution_count": null,
   "id": "intelligent-greene",
   "metadata": {},
   "outputs": [],
   "source": [
    "df.dropna(subset = ['Alter','Bonus'], inplace=True)"
   ]
  },
  {
   "cell_type": "code",
   "execution_count": null,
   "id": "bound-minutes",
   "metadata": {},
   "outputs": [],
   "source": [
    "df"
   ]
  },
  {
   "cell_type": "code",
   "execution_count": null,
   "id": "signed-retail",
   "metadata": {},
   "outputs": [],
   "source": []
  }
 ],
 "metadata": {
  "kernelspec": {
   "display_name": "Python 3 (ipykernel)",
   "language": "python",
   "name": "python3"
  },
  "language_info": {
   "codemirror_mode": {
    "name": "ipython",
    "version": 3
   },
   "file_extension": ".py",
   "mimetype": "text/x-python",
   "name": "python",
   "nbconvert_exporter": "python",
   "pygments_lexer": "ipython3",
   "version": "3.10.8"
  }
 },
 "nbformat": 4,
 "nbformat_minor": 5
}
